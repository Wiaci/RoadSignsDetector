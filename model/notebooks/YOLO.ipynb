{
 "metadata": {
  "kernelspec": {
   "language": "python",
   "display_name": "Python 3",
   "name": "python3"
  },
  "language_info": {
   "name": "python",
   "version": "3.10.12",
   "mimetype": "text/x-python",
   "codemirror_mode": {
    "name": "ipython",
    "version": 3
   },
   "pygments_lexer": "ipython3",
   "nbconvert_exporter": "python",
   "file_extension": ".py"
  },
  "kaggle": {
   "accelerator": "none",
   "dataSources": [
    {
     "sourceId": 6997008,
     "sourceType": "datasetVersion",
     "datasetId": 4022136
    },
    {
     "sourceId": 7035111,
     "sourceType": "datasetVersion",
     "datasetId": 4047135
    }
   ],
   "dockerImageVersionId": 30587,
   "isInternetEnabled": true,
   "language": "python",
   "sourceType": "notebook",
   "isGpuEnabled": false
  }
 },
 "nbformat_minor": 4,
 "nbformat": 4,
 "cells": [
  {
   "cell_type": "code",
   "source": [
    "!pip install ultralytics wandb"
   ],
   "metadata": {
    "execution": {
     "iopub.status.busy": "2023-11-23T13:00:15.211209Z",
     "iopub.execute_input": "2023-11-23T13:00:15.211579Z",
     "iopub.status.idle": "2023-11-23T13:00:31.079979Z",
     "shell.execute_reply.started": "2023-11-23T13:00:15.211551Z",
     "shell.execute_reply": "2023-11-23T13:00:31.078734Z"
    },
    "trusted": true
   },
   "execution_count": null,
   "outputs": []
  },
  {
   "cell_type": "code",
   "execution_count": null,
   "outputs": [],
   "source": [
    "!wandb login"
   ],
   "metadata": {
    "collapsed": false
   }
  },
  {
   "cell_type": "code",
   "source": [
    "from ultralytics import YOLO\n",
    "from ray import tune"
   ],
   "metadata": {
    "execution": {
     "iopub.status.busy": "2023-11-23T13:01:09.321171Z",
     "iopub.execute_input": "2023-11-23T13:01:09.321545Z",
     "iopub.status.idle": "2023-11-23T13:01:09.325755Z",
     "shell.execute_reply.started": "2023-11-23T13:01:09.321514Z",
     "shell.execute_reply": "2023-11-23T13:01:09.324777Z"
    },
    "trusted": true
   },
   "execution_count": null,
   "outputs": []
  },
  {
   "cell_type": "markdown",
   "source": [
    "### Обучение"
   ],
   "metadata": {
    "collapsed": false
   }
  },
  {
   "cell_type": "code",
   "source": [
    "model = YOLO('yolov8n.pt')"
   ],
   "metadata": {
    "execution": {
     "iopub.status.busy": "2023-11-23T13:01:14.958149Z",
     "iopub.execute_input": "2023-11-23T13:01:14.958539Z",
     "iopub.status.idle": "2023-11-23T13:01:15.021515Z",
     "shell.execute_reply.started": "2023-11-23T13:01:14.958509Z",
     "shell.execute_reply": "2023-11-23T13:01:15.020481Z"
    },
    "trusted": true
   },
   "execution_count": null,
   "outputs": []
  },
  {
   "cell_type": "code",
   "source": [
    "model.train(\n",
    "        data='signs4/data.yaml',\n",
    "        imgsz=640,\n",
    "        batch=16,\n",
    "        epochs=200,\n",
    "        optimizer= 'Adam',\n",
    "        seed=0,\n",
    "        pretrained=True,\n",
    "        name='yolov8'\n",
    "        )"
   ],
   "metadata": {
    "execution": {
     "iopub.status.busy": "2023-11-23T13:03:00.495569Z",
     "iopub.execute_input": "2023-11-23T13:03:00.496560Z",
     "iopub.status.idle": "2023-11-23T15:40:01.828338Z",
     "shell.execute_reply.started": "2023-11-23T13:03:00.496522Z",
     "shell.execute_reply": "2023-11-23T15:40:01.827003Z"
    },
    "trusted": true
   },
   "execution_count": null,
   "outputs": []
  },
  {
   "cell_type": "markdown",
   "source": [
    "### Оценка качества"
   ],
   "metadata": {
    "collapsed": false
   }
  },
  {
   "cell_type": "code",
   "execution_count": null,
   "outputs": [],
   "source": [
    "m = YOLO('runs/detect/train2/weights/best.pt')\n",
    "\n",
    "metrics = m.val(data = 'signs4/data.yaml', split='test')"
   ],
   "metadata": {
    "collapsed": false
   }
  },
  {
   "cell_type": "markdown",
   "source": [
    "### Подбор гиперпараметров"
   ],
   "metadata": {
    "collapsed": false
   }
  },
  {
   "cell_type": "code",
   "execution_count": null,
   "outputs": [],
   "source": [
    "result_grid = model.tune(data='/signs4/data.yaml',\n",
    "                         use_ray=True,\n",
    "                         epochs=100,\n",
    "                         imgsz=640,\n",
    "                         batch=16,\n",
    "                         optimizer='Adam',\n",
    "                         seed=0,\n",
    "                         pretrained=True,\n",
    "                         space={\"lr0\": tune.uniform(1e-5, 1e-1),\n",
    "                               \"lrf\": tune.uniform(0.01, 1.0),\n",
    "                               \"momentum\": tune.uniform(0.6, 0.98),\n",
    "                               \"weight_decay\": tune.uniform(0.0, 0.001),\n",
    "                               \"warmup_epochs\": tune.uniform(0.0, 5.0),\n",
    "                               \"warmup_momentum\": tune.uniform(0.0, 0.95),\n",
    "                               \"box\": tune.uniform(0.02, 0.2),\n",
    "                               \"cls\": tune.uniform(0.2, 4.0),\n",
    "                               },\n",
    "                         )"
   ],
   "metadata": {
    "collapsed": false
   }
  },
  {
   "cell_type": "markdown",
   "source": [
    "### Экспорт модели в формат onnx"
   ],
   "metadata": {
    "collapsed": false
   }
  },
  {
   "cell_type": "code",
   "execution_count": null,
   "outputs": [],
   "source": [
    "model.export(format='onnx', dynamic=True, simplify=True)"
   ],
   "metadata": {
    "collapsed": false
   }
  }
 ]
}
