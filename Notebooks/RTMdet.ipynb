{
  "cells": [
    {
      "cell_type": "markdown",
      "metadata": {
        "id": "jDcOHsJIhYjH"
      },
      "source": [
        "#MMDetection"
      ]
    },
    {
      "cell_type": "code",
      "source": [
        "from mmengine.utils import get_git_hash\n",
        "from mmengine.utils.dl_utils import collect_env as collect_base_env\n",
        "import re\n",
        "\n",
        "import mmdet\n",
        "from mmdet.apis import DetInferencer\n",
        "import torch\n",
        "import pandas as pd\n",
        "import mlflow\n",
        "import numpy as np\n",
        "import os\n",
        "import subprocess"
      ],
      "metadata": {
        "id": "NQDXehLy9Aex"
      },
      "execution_count": null,
      "outputs": []
    },
    {
      "cell_type": "code",
      "execution_count": null,
      "metadata": {
        "id": "-nMX5y3d7fO4"
      },
      "outputs": [],
      "source": [
        "!nvcc -V\n",
        "!gcc --version"
      ]
    },
    {
      "cell_type": "code",
      "execution_count": null,
      "metadata": {
        "id": "javUKbHK8jkg"
      },
      "outputs": [],
      "source": [
        "%pip install -U openmim\n",
        "!mim install \"mmengine>=0.7.0\"\n",
        "!mim install \"mmcv>=2.0.0rc4\"\n",
        "\n",
        "!rm -rf mmdetection\n",
        "!git clone https://github.com/open-mmlab/mmdetection.git\n",
        "%cd mmdetection\n",
        "\n",
        "%pip install -e ."
      ]
    },
    {
      "cell_type": "code",
      "execution_count": null,
      "metadata": {
        "id": "jdZ89rQy8mTd"
      },
      "outputs": [],
      "source": [
        "def collect_env():\n",
        "    \"\"\"Collect the information of the running environments.\"\"\"\n",
        "    env_info = collect_base_env()\n",
        "    env_info['MMDetection'] = f'{mmdet.__version__}+{get_git_hash()[:7]}'\n",
        "    return env_info\n",
        "\n",
        "\n",
        "if __name__ == '__main__':\n",
        "    for name, val in collect_env().items():\n",
        "        print(f'{name}: {val}')"
      ]
    },
    {
      "cell_type": "code",
      "execution_count": null,
      "metadata": {
        "id": "It2zyQlkO9iz"
      },
      "outputs": [],
      "source": [
        "!mkdir ./checkpoints\n",
        "!mim download mmdet --config rtmdet_tiny_8xb32-300e_coco --dest ./checkpoints"
      ]
    },
    {
      "cell_type": "code",
      "execution_count": null,
      "metadata": {
        "id": "XGRab_BpRU2S"
      },
      "outputs": [],
      "source": [
        "%cd ../"
      ]
    },
    {
      "cell_type": "code",
      "execution_count": null,
      "metadata": {
        "id": "CNOY_mmATrhP"
      },
      "outputs": [],
      "source": [
        "!wget https://universe.roboflow.com/ds/EjKhjLPQB2?key=SL5eS94wrt"
      ]
    },
    {
      "cell_type": "code",
      "execution_count": null,
      "metadata": {
        "id": "-ufbGUayTujj"
      },
      "outputs": [],
      "source": [
        "!unzip /content/EjKhjLPQB2?key=SL5eS94wrt"
      ]
    },
    {
      "cell_type": "code",
      "execution_count": null,
      "metadata": {
        "colab": {
          "base_uri": "https://localhost:8080/"
        },
        "id": "uS-skshVZtp5",
        "outputId": "97238848-bd94-4c26-f5cd-38a7230df8c6"
      },
      "outputs": [
        {
          "output_type": "stream",
          "name": "stdout",
          "text": [
            "/content/mmdetection\n"
          ]
        }
      ],
      "source": [
        "%cd /content/mmdetection"
      ]
    },
    {
      "cell_type": "code",
      "execution_count": null,
      "metadata": {
        "id": "-h9Ytk-H9x64"
      },
      "outputs": [],
      "source": [
        "def change_config(batch_size, lr, epochs, weight_decay, image_size):\n",
        "    config_balloon = f\"\"\"\n",
        "_base_ = './rtmdet_tiny_8xb32-300e_coco.py'\n",
        "\n",
        "data_root = '/content/dataset/' # dataset root\n",
        "\n",
        "train_batch_size_per_gpu = {batch_size}\n",
        "train_num_workers = 1\n",
        "\n",
        "max_epochs = {epochs}\n",
        "stage2_num_epochs = 1\n",
        "base_lr = {lr}\n",
        "\n",
        "metainfo = {{\n",
        "    'classes': ('100Limit', '10Limit', '1sideRoad', '1sideRoadRight', '20Limit', '30Limit', '40Limit', '50Limit', '5Limit', '60Limit', '70Limit', '80Limit', 'BusRoad', 'BusStop', 'Deti', 'Forbidden', 'Force', 'ForwardAndLeftPolosa', 'ForwardAndRightPolosa', 'ForwardPolosa', 'Information', 'LeftAndRightPolosa', 'LeftPolosa', 'NoPark', 'NoParkAndStop', 'NoRight', 'Parking', 'Perehod', 'RightPolosa', 'RingRoad', 'Special', 'Stop', 'Tramvai', 'Tupik', 'Ustupi', 'Warning', 'end1sideRoad', 'endmain', 'mainRoad', 'noLeft', 'noRide', 'objezdLeft', 'objezdLeftRight', 'objezdRight', 'onlyForward', 'onlyForwardAndLeft', 'onlyForwardAndRight', 'onlyLeft', 'onlyRight', 'onlyRightLeft', 'speed_limit_120', 'speed_limit_15', 'speed_limit_90', 'Gilaya zona', 'Zapravkd', 'Peresechenie s velodorojkoi', 'Gruzoviki'),\n",
        "}}\n",
        "\n",
        "train_dataloader = dict(\n",
        "    batch_size=train_batch_size_per_gpu,\n",
        "    num_workers=train_num_workers,\n",
        "    dataset=dict(\n",
        "      data_root=data_root,\n",
        "      metainfo=metainfo,\n",
        "      data_prefix=dict(img='train/'),\n",
        "      ann_file='train/_annotations.coco.json'))\n",
        "\n",
        "val_dataloader = dict(\n",
        "    dataset=dict(\n",
        "      data_root=data_root,\n",
        "      metainfo=metainfo,\n",
        "      data_prefix=dict(img='valid/'),\n",
        "      ann_file='valid/_annotations.coco.json'))\n",
        "\n",
        "test_dataloader = val_dataloader\n",
        "\n",
        "val_evaluator = dict(ann_file=data_root + 'valid/' + '_annotations.coco.json')\n",
        "\n",
        "test_evaluator = val_evaluator\n",
        "\n",
        "model = dict(bbox_head=dict(num_classes=50))\n",
        "\n",
        "# learning rate\n",
        "param_scheduler = [\n",
        "    dict(\n",
        "      type='LinearLR',\n",
        "      start_factor=1.0e-5,\n",
        "      by_epoch=False,\n",
        "      begin=0,\n",
        "      end=10),\n",
        "    dict(\n",
        "      # use cosine lr from 10 to 20 epoch\n",
        "      type='CosineAnnealingLR',\n",
        "      eta_min=base_lr * 0.05,\n",
        "      begin=max_epochs // 2,\n",
        "      end=max_epochs,\n",
        "      T_max=max_epochs // 2,\n",
        "      by_epoch=True,\n",
        "      convert_to_iter_based=True),\n",
        "]\n",
        "\n",
        "train_pipeline_stage2 = [\n",
        "  dict(type='LoadImageFromFile', backend_args=None),\n",
        "  dict(type='LoadAnnotations', with_bbox=True),\n",
        "  dict(\n",
        "      type='RandomResize',\n",
        "      scale=(640, 640),\n",
        "      ratio_range=(0.1, 2.0),\n",
        "      keep_ratio=True),\n",
        "  dict(type='RandomCrop', crop_size=(640, 640)),\n",
        "  dict(type='YOLOXHSVRandomAug'),\n",
        "  dict(type='RandomFlip', prob=0.5),\n",
        "  dict(type='Pad', size=({image_size}, {image_size}), pad_val=dict(img=(114, 114, 114))),\n",
        "  dict(type='PackDetInputs')\n",
        "]\n",
        "\n",
        "# optimizer\n",
        "optim_wrapper = dict(\n",
        "  _delete_=True,\n",
        "  type='OptimWrapper',\n",
        "  optimizer=dict(type='AdamW', lr=base_lr, weight_decay={weight_decay}),\n",
        "  paramwise_cfg=dict(\n",
        "      norm_decay_mult=0, bias_decay_mult=0, bypass_duplicate=True))\n",
        "\n",
        "default_hooks = dict(\n",
        "  checkpoint=dict(\n",
        "      interval=5,\n",
        "      max_keep_ckpts=2,  # only keep latest 2 checkpoints\n",
        "      save_best='auto'\n",
        "  ),\n",
        "  logger=dict(type='LoggerHook', interval=5))\n",
        "\n",
        "custom_hooks = [\n",
        "  dict(\n",
        "      type='PipelineSwitchHook',\n",
        "      switch_epoch=max_epochs - stage2_num_epochs,\n",
        "      switch_pipeline=train_pipeline_stage2)\n",
        "]\n",
        "\n",
        "# load COCO pre-trained weight\n",
        "load_from = './checkpoints/rtmdet_tiny_8xb32-300e_coco_20220902_112414-78e30dcc.pth'\n",
        "\n",
        "train_cfg = dict(type='EpochBasedTrainLoop', max_epochs=max_epochs, val_interval=1)\n",
        "visualizer = dict(vis_backends=[dict(type='LocalVisBackend'), dict(type='TensorboardVisBackend')])\n",
        "\"\"\"\n",
        "\n",
        "    with open('./configs/rtmdet/rtmdet_tiny_1xb4-20e_traffic_signs.py', 'w') as f:\n",
        "        f.write(config_balloon)\n"
      ]
    },
    {
      "cell_type": "code",
      "execution_count": null,
      "metadata": {
        "id": "OdrMBb89Z1QG"
      },
      "outputs": [],
      "source": [
        "!python tools/train.py configs/rtmdet/rtmdet_tiny_1xb4-20e_traffic_signs.py"
      ]
    },
    {
      "cell_type": "code",
      "execution_count": null,
      "metadata": {
        "id": "Blbk7Wga9i9D"
      },
      "outputs": [],
      "source": [
        "!pip install mlflow"
      ]
    },
    {
      "cell_type": "code",
      "execution_count": null,
      "metadata": {
        "id": "sIwSBnxPzgXt"
      },
      "outputs": [],
      "source": [
        "param_space = {\n",
        "    'batch_size': [8, 16],\n",
        "    'lr': [round(elem, 2) for elem in np.arange(0.01, 1.01, 0.05).tolist()],\n",
        "    'weight_decay': [round(elem, 2) for elem in np.arange(0.0001, 0.0011, 0.0001).tolist()],\n",
        "    'image_size': [640, 800]\n",
        "}\n",
        "\n",
        "def random_search(param_space, n_iter):\n",
        "    for i in range(n_iter):\n",
        "        params = {k: np.random.choice(v) for k, v in param_space.items()}\n",
        "\n",
        "        dir = './work_dirs/rtmdet_tiny_1xb4-20e_traffic_signs'\n",
        "        change_config(params['batch_size'],\n",
        "                      params['lr'], 1, params['weight_decay'], params['image_size'])\n",
        "\n",
        "        with mlflow.start_run():\n",
        "            subprocess.run(\"python tools/train.py configs/rtmdet/rtmdet_tiny_1xb4-20e_traffic_signs.py\", shell=True, capture_output=True, check=True)\n",
        "\n",
        "            subdirs = [os.path.join(dir, d) for d in os.listdir(dir) if os.path.isdir(os.path.join(dir, d))]\n",
        "            latest_subdir = max(subdirs, key=os.path.getmtime)\n",
        "\n",
        "            log_files = [f for f in os.listdir(latest_subdir) if f.endswith('.log')]\n",
        "            if log_files:\n",
        "                log_file = log_files[0]\n",
        "                log_file_path = os.path.join(latest_subdir, log_file)\n",
        "                results, best_checkpoint = parse_log_file(log_file_path)\n",
        "\n",
        "                mlflow.log_params(params)\n",
        "                mlflow.log_metrics(results)\n",
        "\n",
        "random_search(param_space, n_iter=1)"
      ]
    },
    {
      "cell_type": "code",
      "source": [
        "def parse_log_file_metrcis_to_dataframe(log_file_path):\n",
        "\n",
        "    metrics_pattern = r\"Epoch\\(val\\) \\[(\\d+)\\]\\[\\d+/\\d+\\].*coco/bbox_mAP: (\\d+\\.\\d+).*coco/bbox_mAP_50: (\\d+\\.\\d+).*coco/bbox_mAP_75: (\\d+\\.\\d+).*coco/bbox_mAP_s: (\\d+\\.\\d+).*coco/bbox_mAP_m: (\\d+\\.\\d+).*coco/bbox_mAP_l: (\\d+\\.\\d+)\"\n",
        "\n",
        "    data = []\n",
        "\n",
        "    with open(log_file_path, 'r') as file:\n",
        "        for line in file:\n",
        "            metrics_match = re.search(metrics_pattern, line)\n",
        "            if metrics_match:\n",
        "                epoch = int(metrics_match.group(1))\n",
        "                mAP = float(metrics_match.group(2))\n",
        "                mAP_50 = float(metrics_match.group(3))\n",
        "                mAP_75 = float(metrics_match.group(4))\n",
        "                mAP_s = float(metrics_match.group(5))\n",
        "                mAP_m = float(metrics_match.group(6))\n",
        "                mAP_l = float(metrics_match.group(7))\n",
        "\n",
        "                data.append({\n",
        "                    'epoch': epoch,\n",
        "                    'bbox_mAP': mAP,\n",
        "                    'bbox_mAP_50': mAP_50,\n",
        "                    'bbox_mAP_75': mAP_75,\n",
        "                    'bbox_mAP_s': mAP_s,\n",
        "                    'bbox_mAP_m': mAP_m,\n",
        "                    'bbox_mAP_l': mAP_l\n",
        "                })\n",
        "\n",
        "    return pd.DataFrame(data)\n"
      ],
      "metadata": {
        "id": "Ksmx8eHwr_ZM"
      },
      "execution_count": null,
      "outputs": []
    },
    {
      "cell_type": "code",
      "source": [
        "def parse_losses_from_log_file_to_df(log_file_path):\n",
        "    with open(log_file_path, 'r') as file:\n",
        "        log_text = file.read()\n",
        "\n",
        "    pattern = r'Epoch\\(train\\)\\s*\\[(\\d+)\\]\\[\\s*\\d+/515\\].*?loss: (\\d+\\.\\d+)\\s+loss_cls: (\\d+\\.\\d+)\\s+loss_bbox: (\\d+\\.\\d+)'\n",
        "    results = re.findall(pattern, log_text)\n",
        "\n",
        "    epoch_data = {}\n",
        "    for epoch, total_loss, loss_cls, loss_bbox in results:\n",
        "        epoch_data[int(epoch)] = (float(total_loss), float(loss_cls), float(loss_bbox))\n",
        "\n",
        "    last_epoch_df = pd.DataFrame([(epoch, data[0], data[1], data[2]) for epoch, data in epoch_data.items()],\n",
        "                                 columns=['epoch', 'loss', 'loss_cls', 'loss_bbox'])\n",
        "\n",
        "    return last_epoch_df"
      ],
      "metadata": {
        "id": "LcWVG2xBtqbu"
      },
      "execution_count": null,
      "outputs": []
    },
    {
      "cell_type": "code",
      "source": [
        "def plot_metrics(df):\n",
        "    fig, ax = plt.subplots(1, 3, figsize=(15, 5))\n",
        "\n",
        "    ax[0].plot(df['epoch'], df['bbox_mAP'], color='blue', marker='o')\n",
        "    ax[0].set_title('Bbox mAP')\n",
        "    ax[0].set_xlabel('Epoch')\n",
        "    ax[0].set_ylabel('mAP')\n",
        "\n",
        "    ax[1].plot(df['epoch'], df['bbox_mAP_50'], color='green', marker='o')\n",
        "    ax[1].set_title('Bbox mAP_50')\n",
        "    ax[1].set_xlabel('Epoch')\n",
        "    ax[1].set_ylabel('mAP_50')\n",
        "\n",
        "    ax[2].plot(df['epoch'], df['bbox_mAP_75'], color='red', marker='o')\n",
        "    ax[2].set_title('Bbox mAP_75')\n",
        "    ax[2].set_xlabel('Epoch')\n",
        "    ax[2].set_ylabel('mAP_75')\n",
        "\n",
        "    plt.tight_layout()\n",
        "    plt.savefig('./mAP_graphs.png')\n",
        "\n",
        "    plt.show()"
      ],
      "metadata": {
        "id": "EVGm8kfZHIDe"
      },
      "execution_count": null,
      "outputs": []
    },
    {
      "cell_type": "code",
      "source": [
        "plot_metrics(df)"
      ],
      "metadata": {
        "colab": {
          "base_uri": "https://localhost:8080/",
          "height": 379
        },
        "id": "OKSZzJZUJXCi",
        "outputId": "404f9ff9-1a64-47ba-9052-da2e3cb5320a"
      },
      "execution_count": null,
      "outputs": [
        {
          "output_type": "display_data",
          "data": {
            "text/plain": [
              "<Figure size 1500x500 with 3 Axes>"
            ],
            "image/png": "[encoded data removed]"
          },
          "metadata": {}
        }
      ]
    }
  ],
  "metadata": {
    "accelerator": "GPU",
    "colab": {
      "provenance": []
    },
    "kernelspec": {
      "display_name": "Python 3",
      "name": "python3"
    },
    "language_info": {
      "name": "python"
    }
  },
  "nbformat": 4,
  "nbformat_minor": 0
}