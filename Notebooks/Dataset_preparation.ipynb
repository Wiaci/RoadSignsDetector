{
  "cells": [
    {
      "cell_type": "code",
      "execution_count": null,
      "metadata": {
        "id": "tu1jLRtoNthW"
      },
      "outputs": [],
      "source": [
        "!wget https://universe.roboflow.com/ds/eLFkVZKjoD?key=b6QQxXKqJ0"
      ]
    },
    {
      "cell_type": "code",
      "execution_count": null,
      "metadata": {
        "id": "xGVsuuxwROAP"
      },
      "outputs": [],
      "source": [
        "!unzip /content/eLFkVZKjoD?key=b6QQxXKqJ0"
      ]
    },
    {
      "cell_type": "code",
      "execution_count": null,
      "metadata": {
        "id": "LjLpiaGjRnE2"
      },
      "outputs": [],
      "source": [
        "!wget https://universe.roboflow.com/ds/oUpP80Jp8S?key=2tGfgNE2zE"
      ]
    },
    {
      "cell_type": "code",
      "execution_count": null,
      "metadata": {
        "id": "2wQMji_ASIL9"
      },
      "outputs": [],
      "source": [
        "!unzip /content/oUpP80Jp8S?key=2tGfgNE2zE"
      ]
    },
    {
      "cell_type": "code",
      "execution_count": null,
      "metadata": {
        "id": "e3cZKeAT-Aes"
      },
      "outputs": [],
      "source": [
        "!wget https://universe.roboflow.com/ds/uX1wngldxC?key=FjeykTJnbl"
      ]
    },
    {
      "cell_type": "code",
      "execution_count": null,
      "metadata": {
        "id": "w0F1Qt9r-FF8"
      },
      "outputs": [],
      "source": [
        "!unzip /content/uX1wngldxC?key=FjeykTJnbl"
      ]
    },
    {
      "cell_type": "code",
      "execution_count": null,
      "metadata": {
        "id": "XwzMUoOrLs2a"
      },
      "outputs": [],
      "source": [
        "import os\n",
        "import cv2\n",
        "import os\n",
        "from google.colab.patches import cv2_imshow"
      ]
    },
    {
      "cell_type": "code",
      "source": [
        "!cp '/content/drive/MyDrive/Deep learning in practice/dataset1.zip' ./"
      ],
      "metadata": {
        "id": "EkM9lrj7M_DG"
      },
      "execution_count": null,
      "outputs": []
    },
    {
      "cell_type": "code",
      "source": [
        "!unzip dataset1.zip"
      ],
      "metadata": {
        "id": "wSuFysjHNGDB"
      },
      "execution_count": null,
      "outputs": []
    },
    {
      "cell_type": "code",
      "execution_count": null,
      "metadata": {
        "id": "gINIrrIwLoNB"
      },
      "outputs": [],
      "source": [
        "len(os.listdir('/content/train/images'))"
      ]
    },
    {
      "cell_type": "code",
      "source": [
        "dataset1 = ['100Limit', '10Limit', '1sideRoad', '1sideRoadRight', '20Limit', '30Limit', '40Limit', '50Limit', '5Limit', '60Limit', '70Limit', '80Limit', 'BusRoad', 'BusStop', 'Deti', 'Forbidden', 'Force', 'ForwardAndLeftPolosa', 'ForwardAndRightPolosa', 'ForwardPolosa', 'Information', 'LeftAndRightPolosa', 'LeftPolosa', 'NoPark', 'NoParkAndStop', 'NoRight', 'Parking', 'Perehod', 'RightPolosa', 'RingRoad', 'Special', 'Stop', 'Tramvai', 'Tupik', 'Ustupi', 'Warning', 'end1sideRoad', 'endmain', 'mainRoad', 'noLeft', 'noRide', 'objezdLeft', 'objezdLeftRight', 'objezdRight', 'onlyForward', 'onlyForwardAndLeft', 'onlyForwardAndRight', 'onlyLeft', 'onlyRight', 'onlyRightLeft', 'speed_limit_120', 'speed_limit_15', 'speed_limit_90', 'Gilaya zona', 'Zapravkd', 'Peresechenie s velodorojkoi', 'Gruzoviki']"
      ],
      "metadata": {
        "id": "Gto9yNd1NaRk"
      },
      "execution_count": null,
      "outputs": []
    },
    {
      "cell_type": "code",
      "execution_count": null,
      "metadata": {
        "id": "9NHDDFdlS3KE"
      },
      "outputs": [],
      "source": [
        "dataset1 = ['100Limit', '10Limit', '1sideRoad', '1sideRoadRight', '20Limit',\n",
        "            '30Limit', '40Limit', '50Limit', '5Limit', '60Limit', '70Limit',\n",
        "            '80Limit', 'BusRoad', 'BusStop', 'Deti', 'Forbidden', 'Force',\n",
        "            'ForwardAndLeftPolosa', 'ForwardAndRightPolosa', 'ForwardPolosa',\n",
        "            'Information', 'LeftAndRightPolosa', 'LeftPolosa', 'NoPark', 'NoParkAndStop',\n",
        "            'NoRight', 'Parking', 'Perehod', 'RightPolosa', 'RingRoad', 'Special', 'Stop',\n",
        "            'Tramvai', 'Tupik', 'Ustupi', 'Warning', 'end1sideRoad', 'endmain', 'mainRoad',\n",
        "            'noLeft', 'noRide', 'objezdLeft', 'objezdLeftRight', 'objezdRight', 'onlyForward',\n",
        "            'onlyForwardAndLeft', 'onlyForwardAndRight', 'onlyLeft', 'onlyRight', 'onlyRightLeft',\n",
        "            'speed_limit_120', 'speed_limit_15', 'speed_limit_90', 'Gilaya zona', 'Zapravkd', 'Peresechenie s velodorojkoi',\n",
        "            'Gruzoviki']"
      ]
    },
    {
      "cell_type": "code",
      "execution_count": null,
      "metadata": {
        "id": "bogSkkaX5CFz"
      },
      "outputs": [],
      "source": [
        "dataset4 = ['Deti', 'Zilaya zona', 'Vzd zapret', 'Ustupi dorogu',\n",
        "            'Avtobus', 'Glavnaya doroga', 'Zapravkd', 'Doroznie raboti',\n",
        "            'Dvizenie zapreseno', 'Gruzoviki', 'Ostanovka zapresena', 'Peshehodnii perehod',\n",
        "            'Peresechenie s velodorojkoi', 'speed limit 20', 'speed limt 40',\n",
        "            'Velosipednaya dorojka', 'Iskusstvennaya nerovnost']"
      ]
    },
    {
      "cell_type": "code",
      "execution_count": null,
      "metadata": {
        "id": "stgf7RGAHiHT"
      },
      "outputs": [],
      "source": [
        "dat4_in_dat1 = {\n",
        "    0: 14,\n",
        "    1: 53,\n",
        "    2: 31,\n",
        "    3: 34,\n",
        "    4: 13,\n",
        "    5: 38,\n",
        "    6: 54,\n",
        "    7: 35,\n",
        "    8: 40,\n",
        "    9: 56,\n",
        "    10: 24,\n",
        "    11: 27,\n",
        "    12: 55,\n",
        "    13: 4,\n",
        "    14: 6,\n",
        "    15: 16,\n",
        "    16: 35\n",
        "}"
      ]
    },
    {
      "cell_type": "code",
      "execution_count": null,
      "metadata": {
        "id": "imGb6U3qS8xT"
      },
      "outputs": [],
      "source": [
        "dataset3 = ['speed_limit_10', 'speed_limit_100', 'speed_limit_120', 'speed_limit_15', 'speed_limit_30', 'speed_limit_40', 'speed_limit_5', 'speed_limit_50', 'speed_limit_60', 'speed_limit_70', 'speed_limit_80', 'speed_limit_90']"
      ]
    },
    {
      "cell_type": "code",
      "source": [
        "dat3_in_dat1 = {\n",
        "    0: 1,\n",
        "    1: 0,\n",
        "    2: 50,\n",
        "    3: 51,\n",
        "    4: 5,\n",
        "    5: 6,\n",
        "    6: 8,\n",
        "    7: 7,\n",
        "    8: 9,\n",
        "    9: 10,\n",
        "    10: 11,\n",
        "    11: 52\n",
        "}"
      ],
      "metadata": {
        "id": "J5uKTj-A71Fc"
      },
      "execution_count": null,
      "outputs": []
    },
    {
      "cell_type": "code",
      "execution_count": null,
      "metadata": {
        "id": "XZ-nvJUNUvpC"
      },
      "outputs": [],
      "source": [
        "import os\n",
        "import shutil\n",
        "\n",
        "def update_labels_and_move_images(source_labels_folder, source_images_folder, dest_labels_folder, dest_images_folder, mapping):\n",
        "\n",
        "    for label_file in os.listdir(source_labels_folder):\n",
        "        if label_file.endswith(\".txt\"):\n",
        "            with open(os.path.join(source_labels_folder, label_file), 'r') as file:\n",
        "                lines = file.readlines()\n",
        "\n",
        "            new_lines = []\n",
        "            for line in lines:\n",
        "                parts = line.split()\n",
        "                if parts:\n",
        "                    class_id = int(parts[0])\n",
        "                    new_class_id = mapping.get(class_id, class_id)\n",
        "                    parts[0] = str(new_class_id)\n",
        "                    new_lines.append(' '.join(parts) + '\\n')\n",
        "\n",
        "            with open(os.path.join(dest_labels_folder, label_file), 'w') as file:\n",
        "                file.writelines(new_lines)\n",
        "\n",
        "            image_file = os.path.splitext(label_file)[0] + \".jpg\"\n",
        "            if os.path.exists(os.path.join(source_images_folder, image_file)):\n",
        "                shutil.move(os.path.join(source_images_folder, image_file), os.path.join(dest_images_folder, image_file))\n",
        "\n",
        "source_labels_folder = '/content/dataset4/valid/labels'\n",
        "source_images_folder = '/content/dataset4/valid/images'\n",
        "dest_labels_folder = '/content/dataset1/train/labels'\n",
        "dest_images_folder = '/content/dataset1/train/images'\n",
        "\n",
        "update_labels_and_move_images(source_labels_folder, source_images_folder, dest_labels_folder, dest_images_folder, dat4_in_dat1)\n"
      ]
    },
    {
      "cell_type": "code",
      "execution_count": null,
      "metadata": {
        "colab": {
          "base_uri": "https://localhost:8080/"
        },
        "id": "gFWSfY_ObHms",
        "outputId": "382fc734-4f0c-4431-ef62-a855af1edc64"
      },
      "outputs": [
        {
          "data": {
            "text/plain": [
              "4832"
            ]
          },
          "execution_count": 17,
          "metadata": {},
          "output_type": "execute_result"
        }
      ],
      "source": [
        "len(os.listdir('/content/dataset1/train/images'))"
      ]
    },
    {
      "cell_type": "code",
      "execution_count": null,
      "metadata": {
        "id": "L1cPghP6FzQR"
      },
      "outputs": [],
      "source": [
        "def rename_files(txt_folder_path, img_folder_path):\n",
        "    for index, txt_filename in enumerate(os.listdir(txt_folder_path)):\n",
        "        if txt_filename.endswith(\".txt\"):\n",
        "            new_name = f\"{index}.txt\"\n",
        "            old_txt_path = os.path.join(txt_folder_path, txt_filename)\n",
        "            new_txt_path = os.path.join(txt_folder_path, new_name)\n",
        "\n",
        "            os.rename(old_txt_path, new_txt_path)\n",
        "\n",
        "            img_filename = txt_filename.replace(\".txt\", \".jpg\")\n",
        "            old_img_path = os.path.join(img_folder_path, img_filename)\n",
        "            new_img_path = os.path.join(img_folder_path, f\"{index}.jpg\")\n",
        "\n",
        "            if os.path.exists(old_img_path):\n",
        "                os.rename(old_img_path, new_img_path)\n",
        "rename_files('/content/dataset1/train/labels', '/content/dataset1/train/images')"
      ]
    },
    {
      "cell_type": "code",
      "execution_count": null,
      "metadata": {
        "id": "KuGptvhT2rfa"
      },
      "outputs": [],
      "source": [
        "def zip_folder(folder_path, output_zip_file):\n",
        "    with zipfile.ZipFile(output_zip_file, 'w', zipfile.ZIP_DEFLATED) as zipf:\n",
        "        for root, dirs, files in os.walk(folder_path):\n",
        "            for file in files:\n",
        "                file_path = os.path.join(root, file)\n",
        "                zipf.write(file_path, os.path.relpath(file_path, folder_path))\n",
        "\n",
        "folder_to_zip = '/content/dataset1'\n",
        "zip_file_name = '/path/to/your/output.zip'\n",
        "\n",
        "zip_folder(folder_to_zip, zip_file_name)\n"
      ]
    },
    {
      "cell_type": "code",
      "execution_count": null,
      "metadata": {
        "id": "LAzQvpY-gqri"
      },
      "outputs": [],
      "source": [
        "!rm -r '/content/drive/MyDrive/Deep learning in practice/dataset1'"
      ]
    },
    {
      "cell_type": "code",
      "execution_count": null,
      "metadata": {
        "id": "MEJEIcd3dOzV"
      },
      "outputs": [],
      "source": [
        "def visualize_bboxes_and_labels(labels_folder, images_folder, class_labels):\n",
        "    for label_file in os.listdir(labels_folder):\n",
        "        if label_file.endswith(\".txt\"):\n",
        "            image_file = os.path.splitext(label_file)[0] + \".jpg\"\n",
        "            image_path = os.path.join(images_folder, image_file)\n",
        "            if os.path.exists(image_path):\n",
        "                image = cv2.imread(image_path)\n",
        "\n",
        "                with open(os.path.join(labels_folder, label_file), 'r') as file:\n",
        "                    lines = file.readlines()\n",
        "\n",
        "                for line in lines:\n",
        "                    parts = line.strip().split()\n",
        "                    if len(parts) == 5:\n",
        "                        class_id, x_center, y_center, width, height = map(float, parts)\n",
        "\n",
        "                        x1 = int((x_center - width / 2) * image.shape[1])\n",
        "                        y1 = int((y_center - height / 2) * image.shape[0])\n",
        "                        x2 = int((x_center + width / 2) * image.shape[1])\n",
        "                        y2 = int((y_center + height / 2) * image.shape[0])\n",
        "\n",
        "\n",
        "                        cv2.rectangle(image, (x1, y1), (x2, y2), (0, 255, 0), 2)\n",
        "                        label = class_labels[int(class_id)] if int(class_id) < len(class_labels) else str(class_id)\n",
        "                        cv2.putText(image, label, (x1, y1 - 10), cv2.FONT_HERSHEY_SIMPLEX, 0.5, (0, 255, 0), 2)\n",
        "\n",
        "                cv2_imshow(image)\n",
        "\n",
        "labels_folder = '/content/test/labels'\n",
        "images_folder = '/content/test/images'\n",
        "\n",
        "visualize_bboxes_and_labels(labels_folder, images_folder, dataset1)\n",
        "\n"
      ]
    },
    {
      "cell_type": "code",
      "execution_count": null,
      "metadata": {
        "id": "sUN36V75ekBg"
      },
      "outputs": [],
      "source": []
    }
  ],
  "metadata": {
    "colab": {
      "provenance": []
    },
    "kernelspec": {
      "display_name": "Python 3",
      "name": "python3"
    },
    "language_info": {
      "name": "python"
    }
  },
  "nbformat": 4,
  "nbformat_minor": 0
}